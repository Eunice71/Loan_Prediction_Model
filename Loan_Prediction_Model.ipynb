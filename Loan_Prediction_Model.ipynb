{
 "cells": [
  {
   "cell_type": "markdown",
   "id": "b9d1c1ab-97fa-4674-8feb-4f313aec1f13",
   "metadata": {},
   "source": [
    "#### Introduction"
   ]
  },
  {
   "cell_type": "markdown",
   "id": "9f3dd16c-2388-4f2f-aee1-32d9305e4a84",
   "metadata": {},
   "source": [
    "##### Optimize the Loan eligibility process\n",
    "###### Predict Loan Eligibility for Dream Housing Finance company\n",
    "Dream Housing Finance company deals in all kinds of home loans. They have presence across all urban, semi urban and rural areas. Customer first applies for home loan and after that company validates the customer eligibility for loan.\n",
    "\n",
    "Company wants to automate the loan eligibility process (real time) based on customer detail provided while filling online application form. These details are Gender, Marital Status, Education, Number of Dependents, Income, Loan Amount, Credit History and others. To automate this process, they have provided a dataset to identify the customers segments that are eligible for loan amount so that they can specifically target these customers."
   ]
  },
  {
   "cell_type": "markdown",
   "id": "41b5aa86-2ee6-4720-ad7b-30231e5ce888",
   "metadata": {},
   "source": [
    "#### Import Libraries"
   ]
  },
  {
   "cell_type": "code",
   "execution_count": 265,
   "id": "f0be8c1c-0b0c-4935-81c8-3ea3a80bbaad",
   "metadata": {},
   "outputs": [],
   "source": [
    "import pandas as pd  # for working with tabular data e.g, csv. load or manipulate data.\n",
    "import numpy as np   # numerical computations, creating arrays. \n",
    "import seaborn as sns  # statistical plotting\n",
    "import matplotlib.pyplot as plt  # core plotting library"
   ]
  },
  {
   "cell_type": "markdown",
   "id": "3739c90a-1cbc-4d2e-9298-8dc53c9d530b",
   "metadata": {},
   "source": [
    "#### Load Dataset"
   ]
  },
  {
   "cell_type": "code",
   "execution_count": 267,
   "id": "2a2f9a5f-5378-4365-b9c6-77d800b7ef12",
   "metadata": {},
   "outputs": [],
   "source": [
    "train_df = pd.read_csv ('train.csv')"
   ]
  },
  {
   "cell_type": "code",
   "execution_count": 268,
   "id": "a24bb016-32ed-4223-aacb-cb3a931e20d5",
   "metadata": {},
   "outputs": [],
   "source": [
    "test_df = pd.read_csv ('test.csv')"
   ]
  },
  {
   "cell_type": "markdown",
   "id": "6140356a-53cc-4ae0-8cb8-cf6d97ee5434",
   "metadata": {},
   "source": [
    "#### Exploratory Data Analysis"
   ]
  },
  {
   "cell_type": "markdown",
   "id": "82dac4b5-3171-41d7-9352-fa6713fb312b",
   "metadata": {},
   "source": [
    "###### Data Overview and Structure"
   ]
  },
  {
   "cell_type": "code",
   "execution_count": 271,
   "id": "f0a61051-adf6-41a9-b488-be9d5d839e3a",
   "metadata": {},
   "outputs": [
    {
     "data": {
      "text/html": [
       "<div>\n",
       "<style scoped>\n",
       "    .dataframe tbody tr th:only-of-type {\n",
       "        vertical-align: middle;\n",
       "    }\n",
       "\n",
       "    .dataframe tbody tr th {\n",
       "        vertical-align: top;\n",
       "    }\n",
       "\n",
       "    .dataframe thead th {\n",
       "        text-align: right;\n",
       "    }\n",
       "</style>\n",
       "<table border=\"1\" class=\"dataframe\">\n",
       "  <thead>\n",
       "    <tr style=\"text-align: right;\">\n",
       "      <th></th>\n",
       "      <th>Loan_ID</th>\n",
       "      <th>Gender</th>\n",
       "      <th>Married</th>\n",
       "      <th>Dependents</th>\n",
       "      <th>Education</th>\n",
       "      <th>Self_Employed</th>\n",
       "      <th>ApplicantIncome</th>\n",
       "      <th>CoapplicantIncome</th>\n",
       "      <th>LoanAmount</th>\n",
       "      <th>Loan_Amount_Term</th>\n",
       "      <th>Credit_History</th>\n",
       "      <th>Property_Area</th>\n",
       "      <th>Loan_Status</th>\n",
       "    </tr>\n",
       "  </thead>\n",
       "  <tbody>\n",
       "    <tr>\n",
       "      <th>0</th>\n",
       "      <td>LP001002</td>\n",
       "      <td>Male</td>\n",
       "      <td>No</td>\n",
       "      <td>0</td>\n",
       "      <td>Graduate</td>\n",
       "      <td>No</td>\n",
       "      <td>5849</td>\n",
       "      <td>0.0</td>\n",
       "      <td>NaN</td>\n",
       "      <td>360.0</td>\n",
       "      <td>1.0</td>\n",
       "      <td>Urban</td>\n",
       "      <td>Y</td>\n",
       "    </tr>\n",
       "    <tr>\n",
       "      <th>1</th>\n",
       "      <td>LP001003</td>\n",
       "      <td>Male</td>\n",
       "      <td>Yes</td>\n",
       "      <td>1</td>\n",
       "      <td>Graduate</td>\n",
       "      <td>No</td>\n",
       "      <td>4583</td>\n",
       "      <td>1508.0</td>\n",
       "      <td>128.0</td>\n",
       "      <td>360.0</td>\n",
       "      <td>1.0</td>\n",
       "      <td>Rural</td>\n",
       "      <td>N</td>\n",
       "    </tr>\n",
       "    <tr>\n",
       "      <th>2</th>\n",
       "      <td>LP001005</td>\n",
       "      <td>Male</td>\n",
       "      <td>Yes</td>\n",
       "      <td>0</td>\n",
       "      <td>Graduate</td>\n",
       "      <td>Yes</td>\n",
       "      <td>3000</td>\n",
       "      <td>0.0</td>\n",
       "      <td>66.0</td>\n",
       "      <td>360.0</td>\n",
       "      <td>1.0</td>\n",
       "      <td>Urban</td>\n",
       "      <td>Y</td>\n",
       "    </tr>\n",
       "    <tr>\n",
       "      <th>3</th>\n",
       "      <td>LP001006</td>\n",
       "      <td>Male</td>\n",
       "      <td>Yes</td>\n",
       "      <td>0</td>\n",
       "      <td>Not Graduate</td>\n",
       "      <td>No</td>\n",
       "      <td>2583</td>\n",
       "      <td>2358.0</td>\n",
       "      <td>120.0</td>\n",
       "      <td>360.0</td>\n",
       "      <td>1.0</td>\n",
       "      <td>Urban</td>\n",
       "      <td>Y</td>\n",
       "    </tr>\n",
       "    <tr>\n",
       "      <th>4</th>\n",
       "      <td>LP001008</td>\n",
       "      <td>Male</td>\n",
       "      <td>No</td>\n",
       "      <td>0</td>\n",
       "      <td>Graduate</td>\n",
       "      <td>No</td>\n",
       "      <td>6000</td>\n",
       "      <td>0.0</td>\n",
       "      <td>141.0</td>\n",
       "      <td>360.0</td>\n",
       "      <td>1.0</td>\n",
       "      <td>Urban</td>\n",
       "      <td>Y</td>\n",
       "    </tr>\n",
       "  </tbody>\n",
       "</table>\n",
       "</div>"
      ],
      "text/plain": [
       "    Loan_ID Gender Married Dependents     Education Self_Employed  \\\n",
       "0  LP001002   Male      No          0      Graduate            No   \n",
       "1  LP001003   Male     Yes          1      Graduate            No   \n",
       "2  LP001005   Male     Yes          0      Graduate           Yes   \n",
       "3  LP001006   Male     Yes          0  Not Graduate            No   \n",
       "4  LP001008   Male      No          0      Graduate            No   \n",
       "\n",
       "   ApplicantIncome  CoapplicantIncome  LoanAmount  Loan_Amount_Term  \\\n",
       "0             5849                0.0         NaN             360.0   \n",
       "1             4583             1508.0       128.0             360.0   \n",
       "2             3000                0.0        66.0             360.0   \n",
       "3             2583             2358.0       120.0             360.0   \n",
       "4             6000                0.0       141.0             360.0   \n",
       "\n",
       "   Credit_History Property_Area Loan_Status  \n",
       "0             1.0         Urban           Y  \n",
       "1             1.0         Rural           N  \n",
       "2             1.0         Urban           Y  \n",
       "3             1.0         Urban           Y  \n",
       "4             1.0         Urban           Y  "
      ]
     },
     "execution_count": 271,
     "metadata": {},
     "output_type": "execute_result"
    }
   ],
   "source": [
    "train_df.head()"
   ]
  },
  {
   "cell_type": "code",
   "execution_count": 272,
   "id": "0fb29785-97c9-4ee1-9b8b-4eae6d6e6205",
   "metadata": {},
   "outputs": [
    {
     "data": {
      "text/html": [
       "<div>\n",
       "<style scoped>\n",
       "    .dataframe tbody tr th:only-of-type {\n",
       "        vertical-align: middle;\n",
       "    }\n",
       "\n",
       "    .dataframe tbody tr th {\n",
       "        vertical-align: top;\n",
       "    }\n",
       "\n",
       "    .dataframe thead th {\n",
       "        text-align: right;\n",
       "    }\n",
       "</style>\n",
       "<table border=\"1\" class=\"dataframe\">\n",
       "  <thead>\n",
       "    <tr style=\"text-align: right;\">\n",
       "      <th></th>\n",
       "      <th>Loan_ID</th>\n",
       "      <th>Gender</th>\n",
       "      <th>Married</th>\n",
       "      <th>Dependents</th>\n",
       "      <th>Education</th>\n",
       "      <th>Self_Employed</th>\n",
       "      <th>ApplicantIncome</th>\n",
       "      <th>CoapplicantIncome</th>\n",
       "      <th>LoanAmount</th>\n",
       "      <th>Loan_Amount_Term</th>\n",
       "      <th>Credit_History</th>\n",
       "      <th>Property_Area</th>\n",
       "    </tr>\n",
       "  </thead>\n",
       "  <tbody>\n",
       "    <tr>\n",
       "      <th>0</th>\n",
       "      <td>LP001015</td>\n",
       "      <td>Male</td>\n",
       "      <td>Yes</td>\n",
       "      <td>0</td>\n",
       "      <td>Graduate</td>\n",
       "      <td>No</td>\n",
       "      <td>5720</td>\n",
       "      <td>0</td>\n",
       "      <td>110.0</td>\n",
       "      <td>360.0</td>\n",
       "      <td>1.0</td>\n",
       "      <td>Urban</td>\n",
       "    </tr>\n",
       "    <tr>\n",
       "      <th>1</th>\n",
       "      <td>LP001022</td>\n",
       "      <td>Male</td>\n",
       "      <td>Yes</td>\n",
       "      <td>1</td>\n",
       "      <td>Graduate</td>\n",
       "      <td>No</td>\n",
       "      <td>3076</td>\n",
       "      <td>1500</td>\n",
       "      <td>126.0</td>\n",
       "      <td>360.0</td>\n",
       "      <td>1.0</td>\n",
       "      <td>Urban</td>\n",
       "    </tr>\n",
       "    <tr>\n",
       "      <th>2</th>\n",
       "      <td>LP001031</td>\n",
       "      <td>Male</td>\n",
       "      <td>Yes</td>\n",
       "      <td>2</td>\n",
       "      <td>Graduate</td>\n",
       "      <td>No</td>\n",
       "      <td>5000</td>\n",
       "      <td>1800</td>\n",
       "      <td>208.0</td>\n",
       "      <td>360.0</td>\n",
       "      <td>1.0</td>\n",
       "      <td>Urban</td>\n",
       "    </tr>\n",
       "    <tr>\n",
       "      <th>3</th>\n",
       "      <td>LP001035</td>\n",
       "      <td>Male</td>\n",
       "      <td>Yes</td>\n",
       "      <td>2</td>\n",
       "      <td>Graduate</td>\n",
       "      <td>No</td>\n",
       "      <td>2340</td>\n",
       "      <td>2546</td>\n",
       "      <td>100.0</td>\n",
       "      <td>360.0</td>\n",
       "      <td>NaN</td>\n",
       "      <td>Urban</td>\n",
       "    </tr>\n",
       "    <tr>\n",
       "      <th>4</th>\n",
       "      <td>LP001051</td>\n",
       "      <td>Male</td>\n",
       "      <td>No</td>\n",
       "      <td>0</td>\n",
       "      <td>Not Graduate</td>\n",
       "      <td>No</td>\n",
       "      <td>3276</td>\n",
       "      <td>0</td>\n",
       "      <td>78.0</td>\n",
       "      <td>360.0</td>\n",
       "      <td>1.0</td>\n",
       "      <td>Urban</td>\n",
       "    </tr>\n",
       "  </tbody>\n",
       "</table>\n",
       "</div>"
      ],
      "text/plain": [
       "    Loan_ID Gender Married Dependents     Education Self_Employed  \\\n",
       "0  LP001015   Male     Yes          0      Graduate            No   \n",
       "1  LP001022   Male     Yes          1      Graduate            No   \n",
       "2  LP001031   Male     Yes          2      Graduate            No   \n",
       "3  LP001035   Male     Yes          2      Graduate            No   \n",
       "4  LP001051   Male      No          0  Not Graduate            No   \n",
       "\n",
       "   ApplicantIncome  CoapplicantIncome  LoanAmount  Loan_Amount_Term  \\\n",
       "0             5720                  0       110.0             360.0   \n",
       "1             3076               1500       126.0             360.0   \n",
       "2             5000               1800       208.0             360.0   \n",
       "3             2340               2546       100.0             360.0   \n",
       "4             3276                  0        78.0             360.0   \n",
       "\n",
       "   Credit_History Property_Area  \n",
       "0             1.0         Urban  \n",
       "1             1.0         Urban  \n",
       "2             1.0         Urban  \n",
       "3             NaN         Urban  \n",
       "4             1.0         Urban  "
      ]
     },
     "execution_count": 272,
     "metadata": {},
     "output_type": "execute_result"
    }
   ],
   "source": [
    "test_df.head()"
   ]
  },
  {
   "cell_type": "code",
   "execution_count": 273,
   "id": "add2916f-13e0-4949-818c-524cc5a57f80",
   "metadata": {},
   "outputs": [
    {
     "data": {
      "text/plain": [
       "(614, 13)"
      ]
     },
     "execution_count": 273,
     "metadata": {},
     "output_type": "execute_result"
    }
   ],
   "source": [
    "train_df.shape"
   ]
  },
  {
   "cell_type": "code",
   "execution_count": 274,
   "id": "c3b1f720-3b65-4019-9e95-549cd786ccb6",
   "metadata": {},
   "outputs": [
    {
     "data": {
      "text/plain": [
       "(367, 12)"
      ]
     },
     "execution_count": 274,
     "metadata": {},
     "output_type": "execute_result"
    }
   ],
   "source": [
    "test_df.shape"
   ]
  },
  {
   "cell_type": "code",
   "execution_count": 275,
   "id": "712b6b14-2472-4441-a621-278cf3843c4a",
   "metadata": {},
   "outputs": [
    {
     "name": "stdout",
     "output_type": "stream",
     "text": [
      "<class 'pandas.core.frame.DataFrame'>\n",
      "RangeIndex: 614 entries, 0 to 613\n",
      "Data columns (total 13 columns):\n",
      " #   Column             Non-Null Count  Dtype  \n",
      "---  ------             --------------  -----  \n",
      " 0   Loan_ID            614 non-null    object \n",
      " 1   Gender             601 non-null    object \n",
      " 2   Married            611 non-null    object \n",
      " 3   Dependents         599 non-null    object \n",
      " 4   Education          614 non-null    object \n",
      " 5   Self_Employed      582 non-null    object \n",
      " 6   ApplicantIncome    614 non-null    int64  \n",
      " 7   CoapplicantIncome  614 non-null    float64\n",
      " 8   LoanAmount         592 non-null    float64\n",
      " 9   Loan_Amount_Term   600 non-null    float64\n",
      " 10  Credit_History     564 non-null    float64\n",
      " 11  Property_Area      614 non-null    object \n",
      " 12  Loan_Status        614 non-null    object \n",
      "dtypes: float64(4), int64(1), object(8)\n",
      "memory usage: 62.5+ KB\n"
     ]
    }
   ],
   "source": [
    "train_df.info()"
   ]
  },
  {
   "cell_type": "code",
   "execution_count": 276,
   "id": "4061298d-5bb1-4cc2-85d8-c02b6c2190fc",
   "metadata": {},
   "outputs": [
    {
     "name": "stdout",
     "output_type": "stream",
     "text": [
      "<class 'pandas.core.frame.DataFrame'>\n",
      "RangeIndex: 367 entries, 0 to 366\n",
      "Data columns (total 12 columns):\n",
      " #   Column             Non-Null Count  Dtype  \n",
      "---  ------             --------------  -----  \n",
      " 0   Loan_ID            367 non-null    object \n",
      " 1   Gender             356 non-null    object \n",
      " 2   Married            367 non-null    object \n",
      " 3   Dependents         357 non-null    object \n",
      " 4   Education          367 non-null    object \n",
      " 5   Self_Employed      344 non-null    object \n",
      " 6   ApplicantIncome    367 non-null    int64  \n",
      " 7   CoapplicantIncome  367 non-null    int64  \n",
      " 8   LoanAmount         362 non-null    float64\n",
      " 9   Loan_Amount_Term   361 non-null    float64\n",
      " 10  Credit_History     338 non-null    float64\n",
      " 11  Property_Area      367 non-null    object \n",
      "dtypes: float64(3), int64(2), object(7)\n",
      "memory usage: 34.5+ KB\n"
     ]
    }
   ],
   "source": [
    "test_df.info()"
   ]
  },
  {
   "cell_type": "markdown",
   "id": "b9fca61f-5498-44f0-b4f9-e971485d059f",
   "metadata": {},
   "source": [
    "###### Summary Statistics"
   ]
  },
  {
   "cell_type": "code",
   "execution_count": 278,
   "id": "a6441888-4923-40da-ae0d-c8a212714364",
   "metadata": {},
   "outputs": [
    {
     "data": {
      "text/html": [
       "<div>\n",
       "<style scoped>\n",
       "    .dataframe tbody tr th:only-of-type {\n",
       "        vertical-align: middle;\n",
       "    }\n",
       "\n",
       "    .dataframe tbody tr th {\n",
       "        vertical-align: top;\n",
       "    }\n",
       "\n",
       "    .dataframe thead th {\n",
       "        text-align: right;\n",
       "    }\n",
       "</style>\n",
       "<table border=\"1\" class=\"dataframe\">\n",
       "  <thead>\n",
       "    <tr style=\"text-align: right;\">\n",
       "      <th></th>\n",
       "      <th>ApplicantIncome</th>\n",
       "      <th>CoapplicantIncome</th>\n",
       "      <th>LoanAmount</th>\n",
       "      <th>Loan_Amount_Term</th>\n",
       "      <th>Credit_History</th>\n",
       "    </tr>\n",
       "  </thead>\n",
       "  <tbody>\n",
       "    <tr>\n",
       "      <th>count</th>\n",
       "      <td>614.000000</td>\n",
       "      <td>614.000000</td>\n",
       "      <td>592.000000</td>\n",
       "      <td>600.00000</td>\n",
       "      <td>564.000000</td>\n",
       "    </tr>\n",
       "    <tr>\n",
       "      <th>mean</th>\n",
       "      <td>5403.459283</td>\n",
       "      <td>1621.245798</td>\n",
       "      <td>146.412162</td>\n",
       "      <td>342.00000</td>\n",
       "      <td>0.842199</td>\n",
       "    </tr>\n",
       "    <tr>\n",
       "      <th>std</th>\n",
       "      <td>6109.041673</td>\n",
       "      <td>2926.248369</td>\n",
       "      <td>85.587325</td>\n",
       "      <td>65.12041</td>\n",
       "      <td>0.364878</td>\n",
       "    </tr>\n",
       "    <tr>\n",
       "      <th>min</th>\n",
       "      <td>150.000000</td>\n",
       "      <td>0.000000</td>\n",
       "      <td>9.000000</td>\n",
       "      <td>12.00000</td>\n",
       "      <td>0.000000</td>\n",
       "    </tr>\n",
       "    <tr>\n",
       "      <th>25%</th>\n",
       "      <td>2877.500000</td>\n",
       "      <td>0.000000</td>\n",
       "      <td>100.000000</td>\n",
       "      <td>360.00000</td>\n",
       "      <td>1.000000</td>\n",
       "    </tr>\n",
       "    <tr>\n",
       "      <th>50%</th>\n",
       "      <td>3812.500000</td>\n",
       "      <td>1188.500000</td>\n",
       "      <td>128.000000</td>\n",
       "      <td>360.00000</td>\n",
       "      <td>1.000000</td>\n",
       "    </tr>\n",
       "    <tr>\n",
       "      <th>75%</th>\n",
       "      <td>5795.000000</td>\n",
       "      <td>2297.250000</td>\n",
       "      <td>168.000000</td>\n",
       "      <td>360.00000</td>\n",
       "      <td>1.000000</td>\n",
       "    </tr>\n",
       "    <tr>\n",
       "      <th>max</th>\n",
       "      <td>81000.000000</td>\n",
       "      <td>41667.000000</td>\n",
       "      <td>700.000000</td>\n",
       "      <td>480.00000</td>\n",
       "      <td>1.000000</td>\n",
       "    </tr>\n",
       "  </tbody>\n",
       "</table>\n",
       "</div>"
      ],
      "text/plain": [
       "       ApplicantIncome  CoapplicantIncome  LoanAmount  Loan_Amount_Term  \\\n",
       "count       614.000000         614.000000  592.000000         600.00000   \n",
       "mean       5403.459283        1621.245798  146.412162         342.00000   \n",
       "std        6109.041673        2926.248369   85.587325          65.12041   \n",
       "min         150.000000           0.000000    9.000000          12.00000   \n",
       "25%        2877.500000           0.000000  100.000000         360.00000   \n",
       "50%        3812.500000        1188.500000  128.000000         360.00000   \n",
       "75%        5795.000000        2297.250000  168.000000         360.00000   \n",
       "max       81000.000000       41667.000000  700.000000         480.00000   \n",
       "\n",
       "       Credit_History  \n",
       "count      564.000000  \n",
       "mean         0.842199  \n",
       "std          0.364878  \n",
       "min          0.000000  \n",
       "25%          1.000000  \n",
       "50%          1.000000  \n",
       "75%          1.000000  \n",
       "max          1.000000  "
      ]
     },
     "execution_count": 278,
     "metadata": {},
     "output_type": "execute_result"
    }
   ],
   "source": [
    "train_df.describe()"
   ]
  },
  {
   "cell_type": "markdown",
   "id": "515ce6b9-3cb0-4db6-ae43-64f34ef18109",
   "metadata": {},
   "source": [
    "##### count: number of non-missing values or the valid observations. LoanAmount, Loan_Amount_Term and Credit_History have 592, 600 and 564 valid data points respectively meaning that the three columns have missing values. the counts vary indicating missing data.\n",
    "##### Mean (Average): show the average income approximates, average LoanAmount-loaned out, average Loan_Amount_Term-342 likely in months, average credit history at 0.84 suggests a binary variable where a value close to 1 indicates good credit history. average ApplicantIncome (5403) is higher than the average CoapplicantIncome (614).\n",
    "##### std (standard deviation): ApplicantIncome is 6106 indicates a wide spread in ApplicantIncome. CoapplicantIncome is 2926 shows variability. LoanAmount is 85 shows moderate variability. Loan_Amount_Term is 65 shos variation in loan terms. Credit_History is 0.36 shows less variability (0 or 1). ApplicantIncome has the highest variability which reflects diverse income levels.\n",
    "##### Min (minimun): The presence of 0 in CoapplicantIncome and Credit_History suggests absent data or some applicant have no coapplicant or coapplicant income. min Loan_Amount_Term that the company can give out loan is for 12months. credit_History is zero, some of the applicant ofr loan have no credit history. no data in CoapplicantIncome and Credit_History.\n",
    "##### 25% (25th percentile): applicantincome-25% percent earned 2,877 or less. 25% have no coapllicantincome (median). 25% laanAmount are 100 or less.\n",
    "##### 50%: of applicant earned 3,812 or less. 50% have 1,188 or lessin coapplicanIncome. of loans are 128 or less.\n",
    "##### 75%: of applicant earned 5,795 or less. have 2,297 or less coapplicantIncome. of loan amount are 168 or less.\n",
    "##### Loan_Amount_Term for all percentiles is 360 months. Credit_History for all percentile is 1 which indicates a good credit history. the 50% median values are lower than the means(average) for ApplicantIncome, CoapplicantIncome suggestion skewness. mean is less than median(right skewed)\n",
    "##### Max (maximum): max applicant income is 81,000. max coapplicantIncome is 41,667. max loan amount is 700. max loan term is 480 months. max credit history is 1. max ApplicantIncome shows extreme outliers-81,000 compaired to the mean(average) 5,403."
   ]
  },
  {
   "cell_type": "code",
   "execution_count": 280,
   "id": "033f18c1-6845-4d6d-89ac-2f2f1fd7d81b",
   "metadata": {},
   "outputs": [
    {
     "data": {
      "text/html": [
       "<div>\n",
       "<style scoped>\n",
       "    .dataframe tbody tr th:only-of-type {\n",
       "        vertical-align: middle;\n",
       "    }\n",
       "\n",
       "    .dataframe tbody tr th {\n",
       "        vertical-align: top;\n",
       "    }\n",
       "\n",
       "    .dataframe thead th {\n",
       "        text-align: right;\n",
       "    }\n",
       "</style>\n",
       "<table border=\"1\" class=\"dataframe\">\n",
       "  <thead>\n",
       "    <tr style=\"text-align: right;\">\n",
       "      <th></th>\n",
       "      <th>ApplicantIncome</th>\n",
       "      <th>CoapplicantIncome</th>\n",
       "      <th>LoanAmount</th>\n",
       "      <th>Loan_Amount_Term</th>\n",
       "      <th>Credit_History</th>\n",
       "    </tr>\n",
       "  </thead>\n",
       "  <tbody>\n",
       "    <tr>\n",
       "      <th>count</th>\n",
       "      <td>367.000000</td>\n",
       "      <td>367.000000</td>\n",
       "      <td>362.000000</td>\n",
       "      <td>361.000000</td>\n",
       "      <td>338.000000</td>\n",
       "    </tr>\n",
       "    <tr>\n",
       "      <th>mean</th>\n",
       "      <td>4805.599455</td>\n",
       "      <td>1569.577657</td>\n",
       "      <td>136.132597</td>\n",
       "      <td>342.537396</td>\n",
       "      <td>0.825444</td>\n",
       "    </tr>\n",
       "    <tr>\n",
       "      <th>std</th>\n",
       "      <td>4910.685399</td>\n",
       "      <td>2334.232099</td>\n",
       "      <td>61.366652</td>\n",
       "      <td>65.156643</td>\n",
       "      <td>0.380150</td>\n",
       "    </tr>\n",
       "    <tr>\n",
       "      <th>min</th>\n",
       "      <td>0.000000</td>\n",
       "      <td>0.000000</td>\n",
       "      <td>28.000000</td>\n",
       "      <td>6.000000</td>\n",
       "      <td>0.000000</td>\n",
       "    </tr>\n",
       "    <tr>\n",
       "      <th>25%</th>\n",
       "      <td>2864.000000</td>\n",
       "      <td>0.000000</td>\n",
       "      <td>100.250000</td>\n",
       "      <td>360.000000</td>\n",
       "      <td>1.000000</td>\n",
       "    </tr>\n",
       "    <tr>\n",
       "      <th>50%</th>\n",
       "      <td>3786.000000</td>\n",
       "      <td>1025.000000</td>\n",
       "      <td>125.000000</td>\n",
       "      <td>360.000000</td>\n",
       "      <td>1.000000</td>\n",
       "    </tr>\n",
       "    <tr>\n",
       "      <th>75%</th>\n",
       "      <td>5060.000000</td>\n",
       "      <td>2430.500000</td>\n",
       "      <td>158.000000</td>\n",
       "      <td>360.000000</td>\n",
       "      <td>1.000000</td>\n",
       "    </tr>\n",
       "    <tr>\n",
       "      <th>max</th>\n",
       "      <td>72529.000000</td>\n",
       "      <td>24000.000000</td>\n",
       "      <td>550.000000</td>\n",
       "      <td>480.000000</td>\n",
       "      <td>1.000000</td>\n",
       "    </tr>\n",
       "  </tbody>\n",
       "</table>\n",
       "</div>"
      ],
      "text/plain": [
       "       ApplicantIncome  CoapplicantIncome  LoanAmount  Loan_Amount_Term  \\\n",
       "count       367.000000         367.000000  362.000000        361.000000   \n",
       "mean       4805.599455        1569.577657  136.132597        342.537396   \n",
       "std        4910.685399        2334.232099   61.366652         65.156643   \n",
       "min           0.000000           0.000000   28.000000          6.000000   \n",
       "25%        2864.000000           0.000000  100.250000        360.000000   \n",
       "50%        3786.000000        1025.000000  125.000000        360.000000   \n",
       "75%        5060.000000        2430.500000  158.000000        360.000000   \n",
       "max       72529.000000       24000.000000  550.000000        480.000000   \n",
       "\n",
       "       Credit_History  \n",
       "count      338.000000  \n",
       "mean         0.825444  \n",
       "std          0.380150  \n",
       "min          0.000000  \n",
       "25%          1.000000  \n",
       "50%          1.000000  \n",
       "75%          1.000000  \n",
       "max          1.000000  "
      ]
     },
     "execution_count": 280,
     "metadata": {},
     "output_type": "execute_result"
    }
   ],
   "source": [
    "test_df.describe()"
   ]
  },
  {
   "cell_type": "code",
   "execution_count": 281,
   "id": "3b01eb9d-628c-479a-9c3c-da53a8988774",
   "metadata": {},
   "outputs": [
    {
     "data": {
      "text/plain": [
       "Loan_ID              614\n",
       "Gender                 2\n",
       "Married                2\n",
       "Dependents             4\n",
       "Education              2\n",
       "Self_Employed          2\n",
       "ApplicantIncome      505\n",
       "CoapplicantIncome    287\n",
       "LoanAmount           203\n",
       "Loan_Amount_Term      10\n",
       "Credit_History         2\n",
       "Property_Area          3\n",
       "Loan_Status            2\n",
       "dtype: int64"
      ]
     },
     "execution_count": 281,
     "metadata": {},
     "output_type": "execute_result"
    }
   ],
   "source": [
    "train_df.nunique() # counts the number of distinct (unique) values for each column."
   ]
  },
  {
   "cell_type": "code",
   "execution_count": 282,
   "id": "1ef256d5-b37c-42d6-aff0-4f5babd3ff5a",
   "metadata": {},
   "outputs": [
    {
     "data": {
      "text/plain": [
       "Loan_ID              367\n",
       "Gender                 2\n",
       "Married                2\n",
       "Dependents             4\n",
       "Education              2\n",
       "Self_Employed          2\n",
       "ApplicantIncome      314\n",
       "CoapplicantIncome    194\n",
       "LoanAmount           144\n",
       "Loan_Amount_Term      12\n",
       "Credit_History         2\n",
       "Property_Area          3\n",
       "dtype: int64"
      ]
     },
     "execution_count": 282,
     "metadata": {},
     "output_type": "execute_result"
    }
   ],
   "source": [
    "test_df.nunique()"
   ]
  },
  {
   "cell_type": "code",
   "execution_count": 283,
   "id": "d5de51c3-8bfe-4de5-8c75-de0906eda23a",
   "metadata": {},
   "outputs": [
    {
     "name": "stdout",
     "output_type": "stream",
     "text": [
      "\n",
      "Value counts for Gender:\n",
      "Gender\n",
      "Male      489\n",
      "Female    112\n",
      "Name: count, dtype: int64\n",
      "\n",
      "Value counts for Married:\n",
      "Married\n",
      "Yes    398\n",
      "No     213\n",
      "Name: count, dtype: int64\n",
      "\n",
      "Value counts for Education:\n",
      "Education\n",
      "Graduate        480\n",
      "Not Graduate    134\n",
      "Name: count, dtype: int64\n"
     ]
    }
   ],
   "source": [
    "for col in ['Gender', 'Married', 'Education']:\n",
    "    print(f\"\\nValue counts for {col}:\")\n",
    "    print(train_df[col].value_counts())"
   ]
  },
  {
   "cell_type": "code",
   "execution_count": 284,
   "id": "f8fc0d97-3a3e-4d69-ba8f-a5a0f5bdc114",
   "metadata": {},
   "outputs": [
    {
     "name": "stdout",
     "output_type": "stream",
     "text": [
      "\n",
      "Value counts for Gender:\n",
      "Gender\n",
      "Male      286\n",
      "Female     70\n",
      "Name: count, dtype: int64\n",
      "\n",
      "Value counts for Married:\n",
      "Married\n",
      "Yes    233\n",
      "No     134\n",
      "Name: count, dtype: int64\n",
      "\n",
      "Value counts for Education:\n",
      "Education\n",
      "Graduate        283\n",
      "Not Graduate     84\n",
      "Name: count, dtype: int64\n"
     ]
    }
   ],
   "source": [
    "for col in ['Gender', 'Married', 'Education']:\n",
    "    print(f\"\\nValue counts for {col}:\")\n",
    "    print(test_df[col].value_counts())\n"
   ]
  },
  {
   "cell_type": "markdown",
   "id": "1338f3e7-c5f8-406b-8098-a2320cd5b5a7",
   "metadata": {},
   "source": [
    "###### Missing Value Check"
   ]
  },
  {
   "cell_type": "code",
   "execution_count": 286,
   "id": "a834dbfe-5a6c-418d-a18a-0caec0777a0a",
   "metadata": {},
   "outputs": [
    {
     "data": {
      "text/plain": [
       "Loan_ID               0\n",
       "Gender               13\n",
       "Married               3\n",
       "Dependents           15\n",
       "Education             0\n",
       "Self_Employed        32\n",
       "ApplicantIncome       0\n",
       "CoapplicantIncome     0\n",
       "LoanAmount           22\n",
       "Loan_Amount_Term     14\n",
       "Credit_History       50\n",
       "Property_Area         0\n",
       "Loan_Status           0\n",
       "dtype: int64"
      ]
     },
     "execution_count": 286,
     "metadata": {},
     "output_type": "execute_result"
    }
   ],
   "source": [
    "train_df.isnull().sum() # count the missing values for each column"
   ]
  },
  {
   "cell_type": "code",
   "execution_count": 287,
   "id": "e7d62175-37f7-4bde-b9aa-6cd84d9244dd",
   "metadata": {},
   "outputs": [
    {
     "data": {
      "text/plain": [
       "Loan_ID               0\n",
       "Gender               11\n",
       "Married               0\n",
       "Dependents           10\n",
       "Education             0\n",
       "Self_Employed        23\n",
       "ApplicantIncome       0\n",
       "CoapplicantIncome     0\n",
       "LoanAmount            5\n",
       "Loan_Amount_Term      6\n",
       "Credit_History       29\n",
       "Property_Area         0\n",
       "dtype: int64"
      ]
     },
     "execution_count": 287,
     "metadata": {},
     "output_type": "execute_result"
    }
   ],
   "source": [
    "test_df.isnull().sum()"
   ]
  },
  {
   "cell_type": "code",
   "execution_count": 288,
   "id": "f13faf2e-a3bb-41db-a1bc-c946ceb5e249",
   "metadata": {},
   "outputs": [
    {
     "data": {
      "text/plain": [
       "0"
      ]
     },
     "execution_count": 288,
     "metadata": {},
     "output_type": "execute_result"
    }
   ],
   "source": [
    "train_df.duplicated().sum() # counts how many duplicate rows"
   ]
  },
  {
   "cell_type": "code",
   "execution_count": 289,
   "id": "317749ae-2cd6-4340-a50c-a55a12c6d520",
   "metadata": {},
   "outputs": [
    {
     "data": {
      "text/plain": [
       "0"
      ]
     },
     "execution_count": 289,
     "metadata": {},
     "output_type": "execute_result"
    }
   ],
   "source": [
    "test_df.duplicated().sum()"
   ]
  },
  {
   "cell_type": "markdown",
   "id": "bd671baf-fdde-45b2-97c0-d61c144fd437",
   "metadata": {},
   "source": [
    "###### Data Distribution"
   ]
  },
  {
   "cell_type": "code",
   "execution_count": 291,
   "id": "59851d14-cf7d-434a-bfa8-5b0f53473ee0",
   "metadata": {},
   "outputs": [
    {
     "data": {
      "image/png": "[encoded data removed]",
      "text/plain": [
       "<Figure size 600x400 with 1 Axes>"
      ]
     },
     "metadata": {},
     "output_type": "display_data"
    }
   ],
   "source": [
    "# Countplot\n",
    "plt.figure(figsize=(6,4))\n",
    "ax = sns.countplot(data=train_df, x='Loan_Status')\n",
    "\n",
    "# Add counts and percentages inside bars\n",
    "total = len(train_df)\n",
    "for p in ax.patches:\n",
    "    count = int(p.get_height())  # bar height = count\n",
    "    percentage = 100 * count / total\n",
    "    \n",
    "    # Position annotation inside the bar\n",
    "    ax.annotate(f'{count}\\n({percentage:.1f}%)', \n",
    "                (p.get_x() + p.get_width() / 2., p.get_height() - (p.get_height() * 0.05)),  \n",
    "                ha='center', va='top', fontsize=10, color='white', fontweight='bold')\n",
    "\n",
    "plt.title('Loan Status Distribution (Counts & Percentages)')\n",
    "plt.ylabel('Count')\n",
    "plt.show()"
   ]
  },
  {
   "cell_type": "code",
   "execution_count": 292,
   "id": "28b7c92c-531a-42ce-9d4c-03eaeaea488d",
   "metadata": {},
   "outputs": [
    {
     "data": {
      "image/png": "[encoded data removed]",
      "text/plain": [
       "<Figure size 1200x1200 with 6 Axes>"
      ]
     },
     "metadata": {},
     "output_type": "display_data"
    }
   ],
   "source": [
    "# Categorical columns to plot\n",
    "categorical_cols = ['Gender', 'Married', 'Education', 'Self_Employed', 'Property_Area', 'Dependents']\n",
    "n_cols = 2  # Number of columns (side-by-side plots)\n",
    "n_rows = (len(categorical_cols) + n_cols - 1) // n_cols  # Calculate rows needed\n",
    "\n",
    "plt.figure(figsize=(12, 4 * n_rows))  # Adjust figure size\n",
    "\n",
    "# Loop through each categorical column\n",
    "for idx, col in enumerate(categorical_cols):\n",
    "    plt.subplot(n_rows, n_cols, idx + 1)  # Create subplot\n",
    "    ax = sns.countplot(x=col, hue='Loan_Status', data=train_df)\n",
    "\n",
    "    # Add count and percentage labels INSIDE bars\n",
    "    total = len(train_df)\n",
    "    for p in ax.patches:\n",
    "        count = int(p.get_height())\n",
    "        if count > 0:  # Skip zero counts\n",
    "            percentage = f\"{100 * count / total:.1f}%\"\n",
    "            ax.annotate(f\"{count}\\n({percentage})\",\n",
    "                        (p.get_x() + p.get_width() / 2., p.get_height() - (p.get_height() * 0.05)),\n",
    "                        ha='center', va='top', fontsize=9, color='white', fontweight='bold')\n",
    "\n",
    "    plt.title(f'{col} vs Loan_Status')\n",
    "\n",
    "plt.tight_layout()\n",
    "plt.show()"
   ]
  },
  {
   "cell_type": "code",
   "execution_count": 293,
   "id": "edbe8c0c-4ce6-4dfc-a589-45504363fd3d",
   "metadata": {},
   "outputs": [
    {
     "data": {
      "image/png": "[encoded data removed]",
      "text/plain": [
       "<Figure size 1000x800 with 4 Axes>"
      ]
     },
     "metadata": {},
     "output_type": "display_data"
    }
   ],
   "source": [
    "numerical_cols = ['ApplicantIncome', 'CoapplicantIncome', 'LoanAmount', 'Loan_Amount_Term']\n",
    "\n",
    "train_df[numerical_cols].hist(figsize=(10,8))\n",
    "plt.show()"
   ]
  },
  {
   "cell_type": "code",
   "execution_count": 294,
   "id": "bc6cfa77-36eb-488a-a6c0-931ba07407eb",
   "metadata": {},
   "outputs": [
    {
     "data": {
      "image/png": "[encoded data removed]",
      "text/plain": [
       "<Figure size 1000x800 with 4 Axes>"
      ]
     },
     "metadata": {},
     "output_type": "display_data"
    }
   ],
   "source": [
    "numerical_cols = ['ApplicantIncome', 'CoapplicantIncome', 'LoanAmount', 'Loan_Amount_Term']\n",
    "\n",
    "test_df[numerical_cols].hist(figsize=(10,8))\n",
    "plt.show()"
   ]
  },
  {
   "cell_type": "code",
   "execution_count": 295,
   "id": "5a567ea8-da3e-4bb9-8ecb-57ff7ba9ef30",
   "metadata": {},
   "outputs": [
    {
     "data": {
      "image/png": "[encoded data removed]",
      "text/plain": [
       "<Figure size 1200x800 with 2 Axes>"
      ]
     },
     "metadata": {},
     "output_type": "display_data"
    }
   ],
   "source": [
    "import matplotlib.pyplot as plt\n",
    "import seaborn as sns\n",
    "\n",
    "# Make a copy to avoid changing the original\n",
    "train_corr = train_df.copy()  # Creates a shallow copy of train_df named train_corr. \n",
    "\n",
    "# Convert the target to numeric for correlation calculation\n",
    "train_corr['Loan_Status'] = train_corr['Loan_Status'].map({'Y': 1, 'N': 0})\n",
    "\n",
    "# Select only numeric columns for correlation\n",
    "numeric_cols = train_corr.select_dtypes(include=['int64', 'float64'])\n",
    "\n",
    "# Compute correlation matrix\n",
    "corr_matrix = numeric_cols.corr()\n",
    "\n",
    "# Plot the heatmap\n",
    "plt.figure(figsize=(12, 8))\n",
    "sns.heatmap(corr_matrix, annot=True, fmt=\".2f\", cmap='coolwarm', square=True)\n",
    "plt.title('Correlation Heatmap (Before Encoding & Scaling)')\n",
    "plt.tight_layout()\n",
    "plt.show()\n"
   ]
  },
  {
   "cell_type": "markdown",
   "id": "0c94f0cc-198b-4bb2-a8df-2019e35a6a23",
   "metadata": {},
   "source": [
    "##### CreditHistory to loan_Status is 0.56 shows a strong positive correlation.Applicant with a positive creditHistory are more likely for their loan request to be approved.\n",
    "##### LoanAmount to ApplicantIncome is 0.57 shows a strong positive correlation. The higher the ApplicantIncome of the applicant, the higer the LoanAmount approved. lenders approve larger loans for higher-income applicants. they both have moderate collinearity.\n",
    "##### Other / most variable pair like Loan_Amount_term, LoanAmount, and CoapplicantIncome to Loan_Status either show small, negligible or weak correlations because they play minor role in  explaining loan amount or approval in this dataset. Approval depends more on credit history than on LoanAmount.\n"
   ]
  },
  {
   "cell_type": "markdown",
   "id": "2bd59004-b6b5-4a34-a686-c70160770cdc",
   "metadata": {},
   "source": [
    "#### Data Cleaning and Preprocessing"
   ]
  },
  {
   "cell_type": "code",
   "execution_count": 298,
   "id": "a4b31837-22f4-4696-9183-fbc18617b9c7",
   "metadata": {},
   "outputs": [],
   "source": [
    "for col in ['Gender', 'Married', 'Dependents', 'Self_Employed', 'Credit_History']:\n",
    "    train_df[col] = train_df[col].fillna(train_df[col].mode()[0])"
   ]
  },
  {
   "cell_type": "code",
   "execution_count": 299,
   "id": "9db70993-4cb3-4dd5-8f07-7ead11b7ca15",
   "metadata": {},
   "outputs": [],
   "source": [
    "for col in ['Gender', 'Married', 'Dependents', 'Self_Employed', 'Credit_History']:\n",
    "    test_df[col] = test_df[col].fillna(test_df[col].mode()[0])"
   ]
  },
  {
   "cell_type": "code",
   "execution_count": 300,
   "id": "0a12154f-2c36-4eb3-bcb8-deb86a35880c",
   "metadata": {},
   "outputs": [],
   "source": [
    "# Fill missing numerical values with median\n",
    "num_cols = ['LoanAmount', 'Loan_Amount_Term']\n",
    "for col in num_cols:\n",
    "    train_df[col] = train_df[col].fillna(train_df[col].median())"
   ]
  },
  {
   "cell_type": "code",
   "execution_count": 301,
   "id": "a46ba1f9-38e6-484d-9a22-9543a262a3f4",
   "metadata": {},
   "outputs": [],
   "source": [
    "# Fill missing numerical values with median\n",
    "num_cols = ['LoanAmount', 'Loan_Amount_Term']\n",
    "for col in num_cols:\n",
    "    test_df[col]  = test_df[col].fillna(test_df[col].median())"
   ]
  },
  {
   "cell_type": "code",
   "execution_count": 302,
   "id": "b1d2c94f-54d1-41ca-8465-20251b9040b4",
   "metadata": {},
   "outputs": [
    {
     "name": "stdout",
     "output_type": "stream",
     "text": [
      "<class 'pandas.core.frame.DataFrame'>\n",
      "RangeIndex: 614 entries, 0 to 613\n",
      "Data columns (total 13 columns):\n",
      " #   Column             Non-Null Count  Dtype  \n",
      "---  ------             --------------  -----  \n",
      " 0   Loan_ID            614 non-null    object \n",
      " 1   Gender             614 non-null    object \n",
      " 2   Married            614 non-null    object \n",
      " 3   Dependents         614 non-null    object \n",
      " 4   Education          614 non-null    object \n",
      " 5   Self_Employed      614 non-null    object \n",
      " 6   ApplicantIncome    614 non-null    int64  \n",
      " 7   CoapplicantIncome  614 non-null    float64\n",
      " 8   LoanAmount         614 non-null    float64\n",
      " 9   Loan_Amount_Term   614 non-null    float64\n",
      " 10  Credit_History     614 non-null    float64\n",
      " 11  Property_Area      614 non-null    object \n",
      " 12  Loan_Status        614 non-null    object \n",
      "dtypes: float64(4), int64(1), object(8)\n",
      "memory usage: 62.5+ KB\n"
     ]
    }
   ],
   "source": [
    "train_df.info()"
   ]
  },
  {
   "cell_type": "code",
   "execution_count": 303,
   "id": "61c5a006-5d19-4910-879f-e24f3242015b",
   "metadata": {},
   "outputs": [
    {
     "name": "stdout",
     "output_type": "stream",
     "text": [
      "<class 'pandas.core.frame.DataFrame'>\n",
      "RangeIndex: 367 entries, 0 to 366\n",
      "Data columns (total 12 columns):\n",
      " #   Column             Non-Null Count  Dtype  \n",
      "---  ------             --------------  -----  \n",
      " 0   Loan_ID            367 non-null    object \n",
      " 1   Gender             367 non-null    object \n",
      " 2   Married            367 non-null    object \n",
      " 3   Dependents         367 non-null    object \n",
      " 4   Education          367 non-null    object \n",
      " 5   Self_Employed      367 non-null    object \n",
      " 6   ApplicantIncome    367 non-null    int64  \n",
      " 7   CoapplicantIncome  367 non-null    int64  \n",
      " 8   LoanAmount         367 non-null    float64\n",
      " 9   Loan_Amount_Term   367 non-null    float64\n",
      " 10  Credit_History     367 non-null    float64\n",
      " 11  Property_Area      367 non-null    object \n",
      "dtypes: float64(3), int64(2), object(7)\n",
      "memory usage: 34.5+ KB\n"
     ]
    }
   ],
   "source": [
    "test_df.info()"
   ]
  },
  {
   "cell_type": "code",
   "execution_count": 304,
   "id": "7f458951-1740-4f99-b02e-493f865f441b",
   "metadata": {},
   "outputs": [
    {
     "data": {
      "text/plain": [
       "Loan_ID              0\n",
       "Gender               0\n",
       "Married              0\n",
       "Dependents           0\n",
       "Education            0\n",
       "Self_Employed        0\n",
       "ApplicantIncome      0\n",
       "CoapplicantIncome    0\n",
       "LoanAmount           0\n",
       "Loan_Amount_Term     0\n",
       "Credit_History       0\n",
       "Property_Area        0\n",
       "Loan_Status          0\n",
       "dtype: int64"
      ]
     },
     "execution_count": 304,
     "metadata": {},
     "output_type": "execute_result"
    }
   ],
   "source": [
    "train_df.isnull().sum()"
   ]
  },
  {
   "cell_type": "code",
   "execution_count": 305,
   "id": "da8d7caf-a4c6-443e-b8a8-40ceb72e66b9",
   "metadata": {},
   "outputs": [
    {
     "data": {
      "text/plain": [
       "Loan_ID              0\n",
       "Gender               0\n",
       "Married              0\n",
       "Dependents           0\n",
       "Education            0\n",
       "Self_Employed        0\n",
       "ApplicantIncome      0\n",
       "CoapplicantIncome    0\n",
       "LoanAmount           0\n",
       "Loan_Amount_Term     0\n",
       "Credit_History       0\n",
       "Property_Area        0\n",
       "dtype: int64"
      ]
     },
     "execution_count": 305,
     "metadata": {},
     "output_type": "execute_result"
    }
   ],
   "source": [
    "test_df.isnull().sum()"
   ]
  },
  {
   "cell_type": "code",
   "execution_count": 306,
   "id": "6370352d-4d12-4115-91e3-ad6d0de2b7dc",
   "metadata": {},
   "outputs": [],
   "source": [
    "# treating outlier for both train and test\n",
    "# Step 1: Define the function\n",
    "def cap_outliers_with_train(series, lower, upper):\n",
    "    return series.clip(lower, upper)\n",
    "\n",
    "# Step 2: Apply to both train and test using train's quantile limits\n",
    "for col in num_cols:\n",
    "    lower = train_df[col].quantile(0.05)\n",
    "    upper = train_df[col].quantile(0.95)\n",
    "    \n",
    "    train_df[col] = cap_outliers_with_train(train_df[col], lower, upper)\n",
    "    test_df[col] = cap_outliers_with_train(test_df[col], lower, upper)"
   ]
  },
  {
   "cell_type": "markdown",
   "id": "12323b6c-c348-4eb5-af66-849ebb057911",
   "metadata": {},
   "source": [
    "#### Feature Engineering"
   ]
  },
  {
   "cell_type": "code",
   "execution_count": 308,
   "id": "d571c247-550e-4f4e-b4c1-679599fa261e",
   "metadata": {},
   "outputs": [],
   "source": [
    "# Combine incomes\n",
    "train_df['TotalIncome'] = train_df['ApplicantIncome'] + train_df['CoapplicantIncome']\n",
    "test_df['TotalIncome'] = test_df['ApplicantIncome'] + test_df['CoapplicantIncome']\n",
    "\n",
    "# Debt-to-Income Ratio\n",
    "train_df['DebtToIncome'] = train_df['LoanAmount'] / (train_df['TotalIncome'] + 1)\n",
    "test_df['DebtToIncome'] = test_df['LoanAmount'] / (test_df['TotalIncome'] + 1)\n",
    "\n",
    "# Log transformation to reduce skew\n",
    "train_df['LoanAmount_log'] = np.log(train_df['LoanAmount'] + 1)\n",
    "train_df['TotalIncome_log'] = np.log(train_df['TotalIncome'] + 1)\n",
    "\n",
    "# Log transformation to reduce skew\n",
    "test_df['LoanAmount_log'] = np.log(test_df['LoanAmount'] + 1)\n",
    "test_df['TotalIncome_log'] = np.log(test_df['TotalIncome'] + 1)"
   ]
  },
  {
   "cell_type": "markdown",
   "id": "68449391-639a-42f1-b5b3-b4e44f925ff1",
   "metadata": {},
   "source": [
    "###### Encoding"
   ]
  },
  {
   "cell_type": "code",
   "execution_count": 310,
   "id": "3948e27e-45f2-4c77-bc1f-5f958bd0edfc",
   "metadata": {},
   "outputs": [],
   "source": [
    "from sklearn.preprocessing import LabelEncoder\n",
    "\n",
    "# List of categorical columns\n",
    "cat_cols = ['Gender', 'Married', 'Education', 'Self_Employed', 'Property_Area', 'Dependents']\n",
    "\n",
    "# Initialize LabelEncoder\n",
    "le = LabelEncoder()\n",
    "\n",
    "# Apply Label Encoding to binary columns\n",
    "binary_cols = ['Gender', 'Married', 'Education', 'Self_Employed']\n",
    "\n",
    "for col in binary_cols:\n",
    "    # Combine train and test to handle unseen values\n",
    "    combined = pd.concat([train_df[col], test_df[col]], axis=0)\n",
    "    \n",
    "    le.fit(combined)\n",
    "    \n",
    "    train_df[col] = le.transform(train_df[col])\n",
    "    test_df[col] = le.transform(test_df[col])\n",
    "\n",
    "# One-Hot Encode multi-category column(s)\n",
    "train_df = pd.get_dummies(train_df, columns=['Property_Area', 'Dependents'], drop_first=True)\n",
    "test_df = pd.get_dummies(test_df, columns=['Property_Area', 'Dependents'], drop_first=True)\n",
    "\n",
    "# Align both datasets to have same columns\n",
    "train_df, test_df = train_df.align(test_df, join='left', axis=1, fill_value=0)"
   ]
  },
  {
   "cell_type": "markdown",
   "id": "917b6a92-1b10-4907-b506-3d36b9a059bc",
   "metadata": {},
   "source": [
    "###### Feature Scaling"
   ]
  },
  {
   "cell_type": "code",
   "execution_count": 312,
   "id": "599098ea-cbad-44de-915f-05b8290c295a",
   "metadata": {},
   "outputs": [],
   "source": [
    "from sklearn.preprocessing import StandardScaler\n",
    "\n",
    "# Select numerical columns to scale\n",
    "scale_cols = ['ApplicantIncome', 'CoapplicantIncome', 'LoanAmount', 'LoanAmount_log',\n",
    "              'TotalIncome', 'TotalIncome_log', 'DebtToIncome']\n",
    "\n",
    "# Initialize scaler\n",
    "scaler = StandardScaler()\n",
    "\n",
    "# Fit on train, transform both train and test\n",
    "train_df[scale_cols] = scaler.fit_transform(train_df[scale_cols])\n",
    "test_df[scale_cols] = scaler.transform(test_df[scale_cols])"
   ]
  },
  {
   "cell_type": "code",
   "execution_count": 313,
   "id": "6bdae05b-d346-41e9-bff2-9b3e7a79e0e3",
   "metadata": {},
   "outputs": [],
   "source": [
    "# Remove target from test set\n",
    "if 'Loan_Status' in test_df.columns:\n",
    "    test_df.drop('Loan_Status', axis=1, inplace=True)\n",
    "\n",
    "# Encode target in train_df properly (if not already done)\n",
    "train_df['Loan_Status'] = train_df['Loan_Status'].map({'Y': 1, 'N': 0}).astype(int)"
   ]
  },
  {
   "cell_type": "code",
   "execution_count": 314,
   "id": "4c9a08b0-14b2-47ef-ab65-e1e5622c22bd",
   "metadata": {},
   "outputs": [
    {
     "name": "stdout",
     "output_type": "stream",
     "text": [
      "                        train_df_dtypes test_df_dtypes\n",
      "ApplicantIncome                 float64        float64\n",
      "CoapplicantIncome               float64        float64\n",
      "Credit_History                  float64        float64\n",
      "DebtToIncome                    float64        float64\n",
      "Dependents_1                       bool           bool\n",
      "Dependents_2                       bool           bool\n",
      "Dependents_3+                      bool           bool\n",
      "Education                         int32          int32\n",
      "Gender                            int32          int32\n",
      "LoanAmount                      float64        float64\n",
      "LoanAmount_log                  float64        float64\n",
      "Loan_Amount_Term                float64        float64\n",
      "Loan_ID                          object         object\n",
      "Loan_Status                       int32            NaN\n",
      "Married                           int32          int32\n",
      "Property_Area_Semiurban            bool           bool\n",
      "Property_Area_Urban                bool           bool\n",
      "Self_Employed                     int32          int32\n",
      "TotalIncome                     float64        float64\n",
      "TotalIncome_log                 float64        float64\n"
     ]
    }
   ],
   "source": [
    "# Combine the dtypes into a single DataFrame for side-by-side view\n",
    "dtype_compare = pd.DataFrame({\n",
    "    'train_df_dtypes': train_df.dtypes,\n",
    "    'test_df_dtypes': test_df.dtypes\n",
    "})\n",
    "\n",
    "# Display the result\n",
    "print(dtype_compare)\n"
   ]
  },
  {
   "cell_type": "markdown",
   "id": "58850ce8-6491-466a-9db8-0037fd436f11",
   "metadata": {},
   "source": [
    "#### Split Data"
   ]
  },
  {
   "cell_type": "code",
   "execution_count": 316,
   "id": "70c23ac4-ceea-4e4b-9304-95707ebfc980",
   "metadata": {},
   "outputs": [],
   "source": [
    "X = train_df.drop(['Loan_ID', 'Loan_Status', 'ApplicantIncome', 'CoapplicantIncome', 'LoanAmount', 'TotalIncome'], axis=1)\n",
    "y = train_df['Loan_Status']\n",
    "\n",
    "# For test data, drop similar columns\n",
    "X_test_final = test_df.drop(['Loan_ID', 'ApplicantIncome', 'CoapplicantIncome', 'LoanAmount', 'TotalIncome'], axis=1)"
   ]
  },
  {
   "cell_type": "markdown",
   "id": "14ddc10d-795c-4386-9e06-710657c710d7",
   "metadata": {},
   "source": [
    "#### Model Building and Training"
   ]
  },
  {
   "cell_type": "code",
   "execution_count": 318,
   "id": "a2284b7e-bee5-42b3-9a3f-4abc30e4b9dc",
   "metadata": {},
   "outputs": [],
   "source": [
    "from sklearn.model_selection import train_test_split\n",
    "from sklearn.linear_model import LogisticRegression\n",
    "from sklearn.metrics import accuracy_score, confusion_matrix, classification_report\n",
    "\n",
    "# Split into train & validation sets\n",
    "X_train, X_val, y_train, y_val = train_test_split(X, y, test_size=0.2, random_state=42)\n"
   ]
  },
  {
   "cell_type": "code",
   "execution_count": 319,
   "id": "eba2d0b8-49a9-4586-99a4-b255cd590952",
   "metadata": {},
   "outputs": [],
   "source": [
    "# Build model\n",
    "model = LogisticRegression(max_iter=1000)"
   ]
  },
  {
   "cell_type": "code",
   "execution_count": 320,
   "id": "fb97eedd-8e64-4174-bc44-d0fef1a7e944",
   "metadata": {},
   "outputs": [
    {
     "data": {
      "text/plain": [
       "0"
      ]
     },
     "execution_count": 320,
     "metadata": {},
     "output_type": "execute_result"
    }
   ],
   "source": [
    "y_train.isnull().sum()"
   ]
  },
  {
   "cell_type": "code",
   "execution_count": 321,
   "id": "17ec6258-238d-4c0f-a01d-6d4df9207129",
   "metadata": {},
   "outputs": [],
   "source": [
    "# Example: fill with most frequent class\n",
    "y_train = y_train.fillna(y_train.mode()[0])"
   ]
  },
  {
   "cell_type": "code",
   "execution_count": 322,
   "id": "a3c7584a-96a4-4727-9ac6-e5ec0233410c",
   "metadata": {},
   "outputs": [
    {
     "name": "stdout",
     "output_type": "stream",
     "text": [
      "0\n"
     ]
    }
   ],
   "source": [
    "print(y_train.isnull().sum())  # Should be 0 now"
   ]
  },
  {
   "cell_type": "code",
   "execution_count": 323,
   "id": "dcfa8e10-7ff9-4359-bca7-bf49b803629b",
   "metadata": {},
   "outputs": [
    {
     "data": {
      "text/html": [
       "<style>#sk-container-id-1 {\n",
       "  /* Definition of color scheme common for light and dark mode */\n",
       "  --sklearn-color-text: black;\n",
       "  --sklearn-color-line: gray;\n",
       "  /* Definition of color scheme for unfitted estimators */\n",
       "  --sklearn-color-unfitted-level-0: #fff5e6;\n",
       "  --sklearn-color-unfitted-level-1: #f6e4d2;\n",
       "  --sklearn-color-unfitted-level-2: #ffe0b3;\n",
       "  --sklearn-color-unfitted-level-3: chocolate;\n",
       "  /* Definition of color scheme for fitted estimators */\n",
       "  --sklearn-color-fitted-level-0: #f0f8ff;\n",
       "  --sklearn-color-fitted-level-1: #d4ebff;\n",
       "  --sklearn-color-fitted-level-2: #b3dbfd;\n",
       "  --sklearn-color-fitted-level-3: cornflowerblue;\n",
       "\n",
       "  /* Specific color for light theme */\n",
       "  --sklearn-color-text-on-default-background: var(--sg-text-color, var(--theme-code-foreground, var(--jp-content-font-color1, black)));\n",
       "  --sklearn-color-background: var(--sg-background-color, var(--theme-background, var(--jp-layout-color0, white)));\n",
       "  --sklearn-color-border-box: var(--sg-text-color, var(--theme-code-foreground, var(--jp-content-font-color1, black)));\n",
       "  --sklearn-color-icon: #696969;\n",
       "\n",
       "  @media (prefers-color-scheme: dark) {\n",
       "    /* Redefinition of color scheme for dark theme */\n",
       "    --sklearn-color-text-on-default-background: var(--sg-text-color, var(--theme-code-foreground, var(--jp-content-font-color1, white)));\n",
       "    --sklearn-color-background: var(--sg-background-color, var(--theme-background, var(--jp-layout-color0, #111)));\n",
       "    --sklearn-color-border-box: var(--sg-text-color, var(--theme-code-foreground, var(--jp-content-font-color1, white)));\n",
       "    --sklearn-color-icon: #878787;\n",
       "  }\n",
       "}\n",
       "\n",
       "#sk-container-id-1 {\n",
       "  color: var(--sklearn-color-text);\n",
       "}\n",
       "\n",
       "#sk-container-id-1 pre {\n",
       "  padding: 0;\n",
       "}\n",
       "\n",
       "#sk-container-id-1 input.sk-hidden--visually {\n",
       "  border: 0;\n",
       "  clip: rect(1px 1px 1px 1px);\n",
       "  clip: rect(1px, 1px, 1px, 1px);\n",
       "  height: 1px;\n",
       "  margin: -1px;\n",
       "  overflow: hidden;\n",
       "  padding: 0;\n",
       "  position: absolute;\n",
       "  width: 1px;\n",
       "}\n",
       "\n",
       "#sk-container-id-1 div.sk-dashed-wrapped {\n",
       "  border: 1px dashed var(--sklearn-color-line);\n",
       "  margin: 0 0.4em 0.5em 0.4em;\n",
       "  box-sizing: border-box;\n",
       "  padding-bottom: 0.4em;\n",
       "  background-color: var(--sklearn-color-background);\n",
       "}\n",
       "\n",
       "#sk-container-id-1 div.sk-container {\n",
       "  /* jupyter's `normalize.less` sets `[hidden] { display: none; }`\n",
       "     but bootstrap.min.css set `[hidden] { display: none !important; }`\n",
       "     so we also need the `!important` here to be able to override the\n",
       "     default hidden behavior on the sphinx rendered scikit-learn.org.\n",
       "     See: https://github.com/scikit-learn/scikit-learn/issues/21755 */\n",
       "  display: inline-block !important;\n",
       "  position: relative;\n",
       "}\n",
       "\n",
       "#sk-container-id-1 div.sk-text-repr-fallback {\n",
       "  display: none;\n",
       "}\n",
       "\n",
       "div.sk-parallel-item,\n",
       "div.sk-serial,\n",
       "div.sk-item {\n",
       "  /* draw centered vertical line to link estimators */\n",
       "  background-image: linear-gradient(var(--sklearn-color-text-on-default-background), var(--sklearn-color-text-on-default-background));\n",
       "  background-size: 2px 100%;\n",
       "  background-repeat: no-repeat;\n",
       "  background-position: center center;\n",
       "}\n",
       "\n",
       "/* Parallel-specific style estimator block */\n",
       "\n",
       "#sk-container-id-1 div.sk-parallel-item::after {\n",
       "  content: \"\";\n",
       "  width: 100%;\n",
       "  border-bottom: 2px solid var(--sklearn-color-text-on-default-background);\n",
       "  flex-grow: 1;\n",
       "}\n",
       "\n",
       "#sk-container-id-1 div.sk-parallel {\n",
       "  display: flex;\n",
       "  align-items: stretch;\n",
       "  justify-content: center;\n",
       "  background-color: var(--sklearn-color-background);\n",
       "  position: relative;\n",
       "}\n",
       "\n",
       "#sk-container-id-1 div.sk-parallel-item {\n",
       "  display: flex;\n",
       "  flex-direction: column;\n",
       "}\n",
       "\n",
       "#sk-container-id-1 div.sk-parallel-item:first-child::after {\n",
       "  align-self: flex-end;\n",
       "  width: 50%;\n",
       "}\n",
       "\n",
       "#sk-container-id-1 div.sk-parallel-item:last-child::after {\n",
       "  align-self: flex-start;\n",
       "  width: 50%;\n",
       "}\n",
       "\n",
       "#sk-container-id-1 div.sk-parallel-item:only-child::after {\n",
       "  width: 0;\n",
       "}\n",
       "\n",
       "/* Serial-specific style estimator block */\n",
       "\n",
       "#sk-container-id-1 div.sk-serial {\n",
       "  display: flex;\n",
       "  flex-direction: column;\n",
       "  align-items: center;\n",
       "  background-color: var(--sklearn-color-background);\n",
       "  padding-right: 1em;\n",
       "  padding-left: 1em;\n",
       "}\n",
       "\n",
       "\n",
       "/* Toggleable style: style used for estimator/Pipeline/ColumnTransformer box that is\n",
       "clickable and can be expanded/collapsed.\n",
       "- Pipeline and ColumnTransformer use this feature and define the default style\n",
       "- Estimators will overwrite some part of the style using the `sk-estimator` class\n",
       "*/\n",
       "\n",
       "/* Pipeline and ColumnTransformer style (default) */\n",
       "\n",
       "#sk-container-id-1 div.sk-toggleable {\n",
       "  /* Default theme specific background. It is overwritten whether we have a\n",
       "  specific estimator or a Pipeline/ColumnTransformer */\n",
       "  background-color: var(--sklearn-color-background);\n",
       "}\n",
       "\n",
       "/* Toggleable label */\n",
       "#sk-container-id-1 label.sk-toggleable__label {\n",
       "  cursor: pointer;\n",
       "  display: block;\n",
       "  width: 100%;\n",
       "  margin-bottom: 0;\n",
       "  padding: 0.5em;\n",
       "  box-sizing: border-box;\n",
       "  text-align: center;\n",
       "}\n",
       "\n",
       "#sk-container-id-1 label.sk-toggleable__label-arrow:before {\n",
       "  /* Arrow on the left of the label */\n",
       "  content: \"▸\";\n",
       "  float: left;\n",
       "  margin-right: 0.25em;\n",
       "  color: var(--sklearn-color-icon);\n",
       "}\n",
       "\n",
       "#sk-container-id-1 label.sk-toggleable__label-arrow:hover:before {\n",
       "  color: var(--sklearn-color-text);\n",
       "}\n",
       "\n",
       "/* Toggleable content - dropdown */\n",
       "\n",
       "#sk-container-id-1 div.sk-toggleable__content {\n",
       "  max-height: 0;\n",
       "  max-width: 0;\n",
       "  overflow: hidden;\n",
       "  text-align: left;\n",
       "  /* unfitted */\n",
       "  background-color: var(--sklearn-color-unfitted-level-0);\n",
       "}\n",
       "\n",
       "#sk-container-id-1 div.sk-toggleable__content.fitted {\n",
       "  /* fitted */\n",
       "  background-color: var(--sklearn-color-fitted-level-0);\n",
       "}\n",
       "\n",
       "#sk-container-id-1 div.sk-toggleable__content pre {\n",
       "  margin: 0.2em;\n",
       "  border-radius: 0.25em;\n",
       "  color: var(--sklearn-color-text);\n",
       "  /* unfitted */\n",
       "  background-color: var(--sklearn-color-unfitted-level-0);\n",
       "}\n",
       "\n",
       "#sk-container-id-1 div.sk-toggleable__content.fitted pre {\n",
       "  /* unfitted */\n",
       "  background-color: var(--sklearn-color-fitted-level-0);\n",
       "}\n",
       "\n",
       "#sk-container-id-1 input.sk-toggleable__control:checked~div.sk-toggleable__content {\n",
       "  /* Expand drop-down */\n",
       "  max-height: 200px;\n",
       "  max-width: 100%;\n",
       "  overflow: auto;\n",
       "}\n",
       "\n",
       "#sk-container-id-1 input.sk-toggleable__control:checked~label.sk-toggleable__label-arrow:before {\n",
       "  content: \"▾\";\n",
       "}\n",
       "\n",
       "/* Pipeline/ColumnTransformer-specific style */\n",
       "\n",
       "#sk-container-id-1 div.sk-label input.sk-toggleable__control:checked~label.sk-toggleable__label {\n",
       "  color: var(--sklearn-color-text);\n",
       "  background-color: var(--sklearn-color-unfitted-level-2);\n",
       "}\n",
       "\n",
       "#sk-container-id-1 div.sk-label.fitted input.sk-toggleable__control:checked~label.sk-toggleable__label {\n",
       "  background-color: var(--sklearn-color-fitted-level-2);\n",
       "}\n",
       "\n",
       "/* Estimator-specific style */\n",
       "\n",
       "/* Colorize estimator box */\n",
       "#sk-container-id-1 div.sk-estimator input.sk-toggleable__control:checked~label.sk-toggleable__label {\n",
       "  /* unfitted */\n",
       "  background-color: var(--sklearn-color-unfitted-level-2);\n",
       "}\n",
       "\n",
       "#sk-container-id-1 div.sk-estimator.fitted input.sk-toggleable__control:checked~label.sk-toggleable__label {\n",
       "  /* fitted */\n",
       "  background-color: var(--sklearn-color-fitted-level-2);\n",
       "}\n",
       "\n",
       "#sk-container-id-1 div.sk-label label.sk-toggleable__label,\n",
       "#sk-container-id-1 div.sk-label label {\n",
       "  /* The background is the default theme color */\n",
       "  color: var(--sklearn-color-text-on-default-background);\n",
       "}\n",
       "\n",
       "/* On hover, darken the color of the background */\n",
       "#sk-container-id-1 div.sk-label:hover label.sk-toggleable__label {\n",
       "  color: var(--sklearn-color-text);\n",
       "  background-color: var(--sklearn-color-unfitted-level-2);\n",
       "}\n",
       "\n",
       "/* Label box, darken color on hover, fitted */\n",
       "#sk-container-id-1 div.sk-label.fitted:hover label.sk-toggleable__label.fitted {\n",
       "  color: var(--sklearn-color-text);\n",
       "  background-color: var(--sklearn-color-fitted-level-2);\n",
       "}\n",
       "\n",
       "/* Estimator label */\n",
       "\n",
       "#sk-container-id-1 div.sk-label label {\n",
       "  font-family: monospace;\n",
       "  font-weight: bold;\n",
       "  display: inline-block;\n",
       "  line-height: 1.2em;\n",
       "}\n",
       "\n",
       "#sk-container-id-1 div.sk-label-container {\n",
       "  text-align: center;\n",
       "}\n",
       "\n",
       "/* Estimator-specific */\n",
       "#sk-container-id-1 div.sk-estimator {\n",
       "  font-family: monospace;\n",
       "  border: 1px dotted var(--sklearn-color-border-box);\n",
       "  border-radius: 0.25em;\n",
       "  box-sizing: border-box;\n",
       "  margin-bottom: 0.5em;\n",
       "  /* unfitted */\n",
       "  background-color: var(--sklearn-color-unfitted-level-0);\n",
       "}\n",
       "\n",
       "#sk-container-id-1 div.sk-estimator.fitted {\n",
       "  /* fitted */\n",
       "  background-color: var(--sklearn-color-fitted-level-0);\n",
       "}\n",
       "\n",
       "/* on hover */\n",
       "#sk-container-id-1 div.sk-estimator:hover {\n",
       "  /* unfitted */\n",
       "  background-color: var(--sklearn-color-unfitted-level-2);\n",
       "}\n",
       "\n",
       "#sk-container-id-1 div.sk-estimator.fitted:hover {\n",
       "  /* fitted */\n",
       "  background-color: var(--sklearn-color-fitted-level-2);\n",
       "}\n",
       "\n",
       "/* Specification for estimator info (e.g. \"i\" and \"?\") */\n",
       "\n",
       "/* Common style for \"i\" and \"?\" */\n",
       "\n",
       ".sk-estimator-doc-link,\n",
       "a:link.sk-estimator-doc-link,\n",
       "a:visited.sk-estimator-doc-link {\n",
       "  float: right;\n",
       "  font-size: smaller;\n",
       "  line-height: 1em;\n",
       "  font-family: monospace;\n",
       "  background-color: var(--sklearn-color-background);\n",
       "  border-radius: 1em;\n",
       "  height: 1em;\n",
       "  width: 1em;\n",
       "  text-decoration: none !important;\n",
       "  margin-left: 1ex;\n",
       "  /* unfitted */\n",
       "  border: var(--sklearn-color-unfitted-level-1) 1pt solid;\n",
       "  color: var(--sklearn-color-unfitted-level-1);\n",
       "}\n",
       "\n",
       ".sk-estimator-doc-link.fitted,\n",
       "a:link.sk-estimator-doc-link.fitted,\n",
       "a:visited.sk-estimator-doc-link.fitted {\n",
       "  /* fitted */\n",
       "  border: var(--sklearn-color-fitted-level-1) 1pt solid;\n",
       "  color: var(--sklearn-color-fitted-level-1);\n",
       "}\n",
       "\n",
       "/* On hover */\n",
       "div.sk-estimator:hover .sk-estimator-doc-link:hover,\n",
       ".sk-estimator-doc-link:hover,\n",
       "div.sk-label-container:hover .sk-estimator-doc-link:hover,\n",
       ".sk-estimator-doc-link:hover {\n",
       "  /* unfitted */\n",
       "  background-color: var(--sklearn-color-unfitted-level-3);\n",
       "  color: var(--sklearn-color-background);\n",
       "  text-decoration: none;\n",
       "}\n",
       "\n",
       "div.sk-estimator.fitted:hover .sk-estimator-doc-link.fitted:hover,\n",
       ".sk-estimator-doc-link.fitted:hover,\n",
       "div.sk-label-container:hover .sk-estimator-doc-link.fitted:hover,\n",
       ".sk-estimator-doc-link.fitted:hover {\n",
       "  /* fitted */\n",
       "  background-color: var(--sklearn-color-fitted-level-3);\n",
       "  color: var(--sklearn-color-background);\n",
       "  text-decoration: none;\n",
       "}\n",
       "\n",
       "/* Span, style for the box shown on hovering the info icon */\n",
       ".sk-estimator-doc-link span {\n",
       "  display: none;\n",
       "  z-index: 9999;\n",
       "  position: relative;\n",
       "  font-weight: normal;\n",
       "  right: .2ex;\n",
       "  padding: .5ex;\n",
       "  margin: .5ex;\n",
       "  width: min-content;\n",
       "  min-width: 20ex;\n",
       "  max-width: 50ex;\n",
       "  color: var(--sklearn-color-text);\n",
       "  box-shadow: 2pt 2pt 4pt #999;\n",
       "  /* unfitted */\n",
       "  background: var(--sklearn-color-unfitted-level-0);\n",
       "  border: .5pt solid var(--sklearn-color-unfitted-level-3);\n",
       "}\n",
       "\n",
       ".sk-estimator-doc-link.fitted span {\n",
       "  /* fitted */\n",
       "  background: var(--sklearn-color-fitted-level-0);\n",
       "  border: var(--sklearn-color-fitted-level-3);\n",
       "}\n",
       "\n",
       ".sk-estimator-doc-link:hover span {\n",
       "  display: block;\n",
       "}\n",
       "\n",
       "/* \"?\"-specific style due to the `<a>` HTML tag */\n",
       "\n",
       "#sk-container-id-1 a.estimator_doc_link {\n",
       "  float: right;\n",
       "  font-size: 1rem;\n",
       "  line-height: 1em;\n",
       "  font-family: monospace;\n",
       "  background-color: var(--sklearn-color-background);\n",
       "  border-radius: 1rem;\n",
       "  height: 1rem;\n",
       "  width: 1rem;\n",
       "  text-decoration: none;\n",
       "  /* unfitted */\n",
       "  color: var(--sklearn-color-unfitted-level-1);\n",
       "  border: var(--sklearn-color-unfitted-level-1) 1pt solid;\n",
       "}\n",
       "\n",
       "#sk-container-id-1 a.estimator_doc_link.fitted {\n",
       "  /* fitted */\n",
       "  border: var(--sklearn-color-fitted-level-1) 1pt solid;\n",
       "  color: var(--sklearn-color-fitted-level-1);\n",
       "}\n",
       "\n",
       "/* On hover */\n",
       "#sk-container-id-1 a.estimator_doc_link:hover {\n",
       "  /* unfitted */\n",
       "  background-color: var(--sklearn-color-unfitted-level-3);\n",
       "  color: var(--sklearn-color-background);\n",
       "  text-decoration: none;\n",
       "}\n",
       "\n",
       "#sk-container-id-1 a.estimator_doc_link.fitted:hover {\n",
       "  /* fitted */\n",
       "  background-color: var(--sklearn-color-fitted-level-3);\n",
       "}\n",
       "</style><div id=\"sk-container-id-1\" class=\"sk-top-container\"><div class=\"sk-text-repr-fallback\"><pre>LogisticRegression(max_iter=1000)</pre><b>In a Jupyter environment, please rerun this cell to show the HTML representation or trust the notebook. <br />On GitHub, the HTML representation is unable to render, please try loading this page with nbviewer.org.</b></div><div class=\"sk-container\" hidden><div class=\"sk-item\"><div class=\"sk-estimator fitted sk-toggleable\"><input class=\"sk-toggleable__control sk-hidden--visually\" id=\"sk-estimator-id-1\" type=\"checkbox\" checked><label for=\"sk-estimator-id-1\" class=\"sk-toggleable__label fitted sk-toggleable__label-arrow fitted\">&nbsp;&nbsp;LogisticRegression<a class=\"sk-estimator-doc-link fitted\" rel=\"noreferrer\" target=\"_blank\" href=\"https://scikit-learn.org/1.5/modules/generated/sklearn.linear_model.LogisticRegression.html\">?<span>Documentation for LogisticRegression</span></a><span class=\"sk-estimator-doc-link fitted\">i<span>Fitted</span></span></label><div class=\"sk-toggleable__content fitted\"><pre>LogisticRegression(max_iter=1000)</pre></div> </div></div></div></div>"
      ],
      "text/plain": [
       "LogisticRegression(max_iter=1000)"
      ]
     },
     "execution_count": 323,
     "metadata": {},
     "output_type": "execute_result"
    }
   ],
   "source": [
    "# Train model\n",
    "model.fit(X_train, y_train)"
   ]
  },
  {
   "cell_type": "markdown",
   "id": "2516bf34-5934-43cf-b153-56fb8806fbda",
   "metadata": {},
   "source": [
    "#### Evaluation"
   ]
  },
  {
   "cell_type": "code",
   "execution_count": 325,
   "id": "15b32d49-b04e-4929-8925-345ed37f24c2",
   "metadata": {},
   "outputs": [
    {
     "name": "stdout",
     "output_type": "stream",
     "text": [
      "Accuracy: 0.7886178861788617\n",
      "Confusion Matrix:\n",
      " [[18 25]\n",
      " [ 1 79]]\n",
      "Classification Report:\n",
      "               precision    recall  f1-score   support\n",
      "\n",
      "           0       0.95      0.42      0.58        43\n",
      "           1       0.76      0.99      0.86        80\n",
      "\n",
      "    accuracy                           0.79       123\n",
      "   macro avg       0.85      0.70      0.72       123\n",
      "weighted avg       0.83      0.79      0.76       123\n",
      "\n"
     ]
    }
   ],
   "source": [
    "# Predict on validation set\n",
    "y_pred = model.predict(X_val)\n",
    "\n",
    "# Evaluate\n",
    "print(\"Accuracy:\", accuracy_score(y_val, y_pred))\n",
    "print(\"Confusion Matrix:\\n\", confusion_matrix(y_val, y_pred))\n",
    "print(\"Classification Report:\\n\", classification_report(y_val, y_pred))"
   ]
  },
  {
   "cell_type": "code",
   "execution_count": 326,
   "id": "f0fdf1ad-498a-446e-84b9-27514d1c9182",
   "metadata": {},
   "outputs": [],
   "source": [
    "# Predict\n",
    "test_pred = model.predict(X_test_final)"
   ]
  },
  {
   "cell_type": "code",
   "execution_count": 327,
   "id": "a1f96999-1aad-4a92-9621-8a2c13d2ea40",
   "metadata": {},
   "outputs": [],
   "source": [
    "# Create submission file\n",
    "Loan_submission = pd.DataFrame({\n",
    "    'Loan_ID': test_df['Loan_ID'],\n",
    "    'Loan_Status': np.where(test_pred==1, 'Y', 'N')\n",
    "})"
   ]
  },
  {
   "cell_type": "code",
   "execution_count": 328,
   "id": "ee77decd-ea17-4e57-acee-6c95a51cc3c0",
   "metadata": {},
   "outputs": [
    {
     "name": "stdout",
     "output_type": "stream",
     "text": [
      "Loan Submission file saved!\n"
     ]
    }
   ],
   "source": [
    "# Save to CSV\n",
    "Loan_submission.to_csv('loan_prediction_submission.csv', index=False)\n",
    "print(\"Loan Submission file saved!\")"
   ]
  },
  {
   "cell_type": "code",
   "execution_count": 329,
   "id": "efaeaa4e-370b-43ea-b371-d5cbc7f3c9e2",
   "metadata": {},
   "outputs": [
    {
     "name": "stdout",
     "output_type": "stream",
     "text": [
      "Model saved successfully as 'logistic_regression_model.pkl'\n"
     ]
    }
   ],
   "source": [
    "import joblib\n",
    "\n",
    "# Save the trained model to a file\n",
    "joblib.dump(model, 'logistic_regression_model.pkl')\n",
    "print(\"Model saved successfully as 'logistic_regression_model.pkl'\")"
   ]
  },
  {
   "cell_type": "markdown",
   "id": "e0444e3e-d4b0-4881-83e1-743fe130cbb0",
   "metadata": {},
   "source": [
    "#### Prediction on test_df"
   ]
  },
  {
   "cell_type": "code",
   "execution_count": 331,
   "id": "2490f783-63ca-4d2a-8bbd-0f97f5eb20ab",
   "metadata": {},
   "outputs": [
    {
     "name": "stderr",
     "output_type": "stream",
     "text": [
      "C:\\Users\\HP\\anaconda3\\Lib\\site-packages\\pandas\\core\\arraylike.py:399: RuntimeWarning: invalid value encountered in log\n",
      "  result = getattr(ufunc, method)(*inputs, **kwargs)\n"
     ]
    }
   ],
   "source": [
    "# Create same features as in training\n",
    "test_df['TotalIncome'] = test_df['ApplicantIncome'] + test_df['CoapplicantIncome']\n",
    "test_df['DebtToIncome'] = test_df['LoanAmount'] / (test_df['TotalIncome'] + 1)\n",
    "test_df['LoanAmount_log'] = np.log(test_df['LoanAmount'] + 1)\n",
    "test_df['TotalIncome_log'] = np.log(test_df['TotalIncome'] + 1)\n",
    "\n",
    "# Drop features not used in training\n",
    "columns_to_drop = ['Loan_ID', 'ApplicantIncome', 'CoapplicantIncome', 'LoanAmount', 'TotalIncome']\n",
    "test_df = test_df.drop(columns=columns_to_drop, errors='ignore')\n",
    "\n",
    "# Ensure categorical columns are encoded like in training\n",
    "test_df = pd.get_dummies(test_df)\n",
    "\n",
    "# Match columns with training set\n",
    "# Add any missing columns that were in training but not in test, and fill with 0\n",
    "missing_cols = set(X_train.columns) - set(test_df.columns)\n",
    "for col in missing_cols:\n",
    "    test_df[col] = 0\n",
    "\n",
    "# Reorder columns to match training set\n",
    "test_df = test_df[X_train.columns]\n"
   ]
  },
  {
   "cell_type": "code",
   "execution_count": 332,
   "id": "4541053c-d0bf-491e-9bbc-9e25abeb3e38",
   "metadata": {},
   "outputs": [],
   "source": [
    "# Replace infinite and NaN with 0 or another safe value\n",
    "test_df = test_df.replace([np.inf, -np.inf], np.nan)\n",
    "test_df = test_df.fillna(0)\n"
   ]
  },
  {
   "cell_type": "code",
   "execution_count": 333,
   "id": "30278e53-4c08-49b2-bc23-2f56ef3e733b",
   "metadata": {},
   "outputs": [
    {
     "name": "stdout",
     "output_type": "stream",
     "text": [
      "✅ Predictions saved successfully to 'loan_predictions.csv'\n"
     ]
    }
   ],
   "source": [
    "# Predict using logistic regression model\n",
    "test_predictions = model.predict(test_df)\n",
    "\n",
    "# Convert 1/0 to 'Y'/'N'\n",
    "predicted_labels = ['Y' if pred == 1 else 'N' for pred in test_predictions]\n",
    "\n",
    "# Save predictions\n",
    "# test_df['Loan_ID'] = test_df_original['Loan_ID']  \n",
    "submission = pd.DataFrame({\n",
    "    'Loan_Status': predicted_labels\n",
    "    # 'Loan_ID': test_df_original['Loan_ID'] \n",
    "})\n",
    "\n",
    "submission.to_csv('loan_predictions.csv', index=False)\n",
    "print(\"✅ Predictions saved successfully to 'loan_predictions.csv'\")\n"
   ]
  },
  {
   "cell_type": "code",
   "execution_count": null,
   "id": "af80eb28-84bb-4f55-970c-8a0664f0b4a0",
   "metadata": {},
   "outputs": [],
   "source": []
  }
 ],
 "metadata": {
  "kernelspec": {
   "display_name": "Python [conda env:base] *",
   "language": "python",
   "name": "conda-base-py"
  },
  "language_info": {
   "codemirror_mode": {
    "name": "ipython",
    "version": 3
   },
   "file_extension": ".py",
   "mimetype": "text/x-python",
   "name": "python",
   "nbconvert_exporter": "python",
   "pygments_lexer": "ipython3",
   "version": "3.12.7"
  }
 },
 "nbformat": 4,
 "nbformat_minor": 5
}
